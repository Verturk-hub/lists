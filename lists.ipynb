{
 "cells": [
  {
   "cell_type": "code",
   "execution_count": 8,
   "source": [
    "integers=[]\r\n",
    "number = int(input('give me a number:'))\r\n",
    "\r\n",
    "while number > 0:\r\n",
    "    integers.append(number)\r\n",
    "    number = int(input('give me a number:'))\r\n",
    "    \r\n",
    "    \r\n",
    "print(sorted(integers))"
   ],
   "outputs": [
    {
     "output_type": "stream",
     "name": "stdout",
     "text": [
      "[2, 5, 7, 9]\n"
     ]
    }
   ],
   "metadata": {}
  },
  {
   "cell_type": "code",
   "execution_count": 2,
   "source": [
    "lst=[15,9,7,8,5,1,17,2]\r\n",
    "lst=sorted(lst)\r\n",
    "\r\n",
    "def outlier(lst):\r\n",
    "    for i in range(2):\r\n",
    "        lst.remove(max(lst))\r\n",
    "        lst.remove(min(lst))\r\n",
    "    return lst\r\n",
    "\r\n",
    "print(outlier(lst))\r\n"
   ],
   "outputs": [
    {
     "output_type": "stream",
     "name": "stdout",
     "text": [
      "[5, 7, 8, 9]\n"
     ]
    }
   ],
   "metadata": {}
  },
  {
   "cell_type": "code",
   "execution_count": 11,
   "source": [
    "words =['first','second', 'third', 'first','second']\r\n",
    "lst=[]\r\n",
    "\r\n",
    "for i in words:\r\n",
    "    if i not in lst:\r\n",
    "        lst.append(i)\r\n",
    "\r\n",
    "print(lst)"
   ],
   "outputs": [
    {
     "output_type": "stream",
     "name": "stdout",
     "text": [
      "['first', 'second', 'third']\n"
     ]
    }
   ],
   "metadata": {}
  },
  {
   "cell_type": "code",
   "execution_count": 8,
   "source": [
    "\r\n",
    "def perfectnumbers(n):\r\n",
    "    i=0\r\n",
    "    total=0\r\n",
    "    while i < n-1:\r\n",
    "        i += 1\r\n",
    "        if n % i == 0:\r\n",
    "            total += i\r\n",
    "        \r\n",
    "    if total == n:\r\n",
    "        return True\r\n",
    "    else:\r\n",
    "        return False\r\n",
    "\r\n",
    "perfectnumbers(12)\r\n",
    "\r\n",
    "for i in range(10000):\r\n",
    "    if perfectnumbers(i)== True :\r\n",
    "        print(i)"
   ],
   "outputs": [
    {
     "output_type": "stream",
     "name": "stdout",
     "text": [
      "0\n",
      "6\n",
      "28\n",
      "496\n",
      "8128\n"
     ]
    }
   ],
   "metadata": {}
  }
 ],
 "metadata": {
  "orig_nbformat": 4,
  "language_info": {
   "name": "python",
   "version": "3.8.3",
   "mimetype": "text/x-python",
   "codemirror_mode": {
    "name": "ipython",
    "version": 3
   },
   "pygments_lexer": "ipython3",
   "nbconvert_exporter": "python",
   "file_extension": ".py"
  },
  "kernelspec": {
   "name": "python3",
   "display_name": "Python 3.8.3 64-bit ('base': conda)"
  },
  "interpreter": {
   "hash": "46182d5f787c7496ac3d2ccd0c5d8bf41bffd3ac5e5e93146af501a7f382c533"
  }
 },
 "nbformat": 4,
 "nbformat_minor": 2
}